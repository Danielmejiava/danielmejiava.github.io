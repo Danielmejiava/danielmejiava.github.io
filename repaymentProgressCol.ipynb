{
  "nbformat": 4,
  "nbformat_minor": 0,
  "metadata": {
    "colab": {
      "provenance": [],
      "authorship_tag": "ABX9TyNtbgI6SOlXw9h4H1OAAab4",
      "include_colab_link": true
    },
    "kernelspec": {
      "name": "python3",
      "display_name": "Python 3"
    },
    "language_info": {
      "name": "python"
    }
  },
  "cells": [
    {
      "cell_type": "markdown",
      "metadata": {
        "id": "view-in-github",
        "colab_type": "text"
      },
      "source": [
        "<a href=\"https://colab.research.google.com/github/Danielmejiava/danielmejiava.github.io/blob/main/repaymentProgressCol.ipynb\" target=\"_parent\"><img src=\"https://colab.research.google.com/assets/colab-badge.svg\" alt=\"Open In Colab\"/></a>"
      ]
    },
    {
      "cell_type": "code",
      "execution_count": null,
      "metadata": {
        "id": "5EW3pImQeNC6"
      },
      "outputs": [],
      "source": [
        "import pandas as pd\n",
        "import numpy as np\n",
        "import matplotlib.pyplot as plt\n",
        "import numpy as np"
      ]
    },
    {
      "cell_type": "code",
      "source": [
        "import matplotlib as mpl\n",
        "mpl.rcParams['figure.figsize'] = [16.0,8.0]"
      ],
      "metadata": {
        "id": "UvzO3M-9ePj2"
      },
      "execution_count": null,
      "outputs": []
    },
    {
      "cell_type": "code",
      "source": [
        "from google.colab import drive\n",
        "df = pd.read_csv('/content/ibrdStatement2025.csv')"
      ],
      "metadata": {
        "id": "ZXv1dU77eToS"
      },
      "execution_count": null,
      "outputs": []
    },
    {
      "cell_type": "code",
      "source": [
        "# First, filter the columns\n",
        "\n",
        "# Then, filter the rows based on the countries\n",
        "df= df[df['Country / Economy Code'].isin(['CO'])]\n",
        "\n",
        "# Display the first few rows of the filtered DataFrame\n",
        "\n",
        "filtered_df = df\n",
        "\n",
        "df.info()"
      ],
      "metadata": {
        "colab": {
          "base_uri": "https://localhost:8080/"
        },
        "id": "RCn07nQ8fRYX",
        "outputId": "c9cc0cfc-0df6-42aa-f60d-a6847c9205f7"
      },
      "execution_count": null,
      "outputs": [
        {
          "output_type": "stream",
          "name": "stdout",
          "text": [
            "<class 'pandas.core.frame.DataFrame'>\n",
            "Index: 283 entries, 0 to 9087\n",
            "Data columns (total 33 columns):\n",
            " #   Column                            Non-Null Count  Dtype  \n",
            "---  ------                            --------------  -----  \n",
            " 0   End of Period                     283 non-null    object \n",
            " 1   Loan Number                       283 non-null    object \n",
            " 2   Region                            283 non-null    object \n",
            " 3   Country / Economy Code            283 non-null    object \n",
            " 4   Country / Economy                 283 non-null    object \n",
            " 5   Borrower                          283 non-null    object \n",
            " 6   Guarantor Country / Economy Code  283 non-null    object \n",
            " 7   Guarantor                         283 non-null    object \n",
            " 8   Loan Type                         283 non-null    object \n",
            " 9   Loan Status                       283 non-null    object \n",
            " 10  Interest Rate                     279 non-null    float64\n",
            " 11  Currency of Commitment            0 non-null      float64\n",
            " 12  Project ID                        283 non-null    object \n",
            " 13  Project Name                      283 non-null    object \n",
            " 14  Original Principal Amount (US$)   283 non-null    float64\n",
            " 15  Cancelled Amount (US$)            283 non-null    float64\n",
            " 16  Undisbursed Amount (US$)          283 non-null    float64\n",
            " 17  Disbursed Amount (US$)            283 non-null    float64\n",
            " 18  Repaid to IBRD (US$)              283 non-null    float64\n",
            " 19  Due to IBRD (US$)                 283 non-null    float64\n",
            " 20  Exchange Adjustment (US$)         283 non-null    float64\n",
            " 21  Borrower's Obligation (US$)       283 non-null    float64\n",
            " 22  Sold 3rd Party (US$)              283 non-null    float64\n",
            " 23  Repaid 3rd Party (US$)            283 non-null    float64\n",
            " 24  Due 3rd Party (US$)               283 non-null    int64  \n",
            " 25  Loans Held (US$)                  283 non-null    float64\n",
            " 26  First Repayment Date              282 non-null    object \n",
            " 27  Last Repayment Date               282 non-null    object \n",
            " 28  Agreement Signing Date            281 non-null    object \n",
            " 29  Board Approval Date               283 non-null    object \n",
            " 30  Effective Date (Most Recent)      282 non-null    object \n",
            " 31  Closed Date (Most Recent)         283 non-null    object \n",
            " 32  Last Disbursement Date            174 non-null    object \n",
            "dtypes: float64(13), int64(1), object(19)\n",
            "memory usage: 75.2+ KB\n"
          ]
        }
      ]
    },
    {
      "cell_type": "code",
      "source": [
        "# Calculate Repayment Progress (%)\n",
        "filtered_df['Repayment Progress (%)'] = (\n",
        "    filtered_df['Repaid to IBRD (US$)'] / filtered_df['Original Principal Amount (US$)']\n",
        ") * 100\n",
        "\n",
        "# Replace infinite or missing repayment progress with NaN\n",
        "filtered_df['Repayment Progress (%)'] = filtered_df['Repayment Progress (%)'].replace([float('inf'), -float('inf')], None)\n",
        "\n",
        "# Drop rows where repayment progress is NaN (invalid values)\n",
        "filtered_df = filtered_df.dropna(subset=['Repayment Progress (%)'])\n",
        "\n",
        "# Group by Borrower and calculate the average repayment progress\n",
        "repayment_by_borrower = filtered_df.groupby('Borrower', as_index=False).agg(\n",
        "    average_repayment_progress=('Repayment Progress (%)', 'mean'),\n",
        "    total_repaid=('Repaid to IBRD (US$)', 'sum'),\n",
        "    total_principal=('Original Principal Amount (US$)', 'sum')\n",
        ")\n",
        "\n",
        "# Filter to ensure valid repayment progress\n",
        "repayment_by_borrower = repayment_by_borrower[repayment_by_borrower['average_repayment_progress'] > 0]\n",
        "\n",
        "# Select the 10 borrowers with the highest total principal amounts\n",
        "top_10_borrowers = repayment_by_borrower.nlargest(10, 'total_principal')\n",
        "\n",
        "# Display the filtered data\n",
        "print(\"Top 10 Borrowers by Total Principal Amount:\")\n",
        "print(top_10_borrowers)"
      ],
      "metadata": {
        "colab": {
          "base_uri": "https://localhost:8080/"
        },
        "id": "hP_XPnwihMAP",
        "outputId": "3ecb5cbb-3439-4b78-b227-fc5cad968364"
      },
      "execution_count": null,
      "outputs": [
        {
          "output_type": "stream",
          "name": "stdout",
          "text": [
            "Top 10 Borrowers by Total Principal Amount:\n",
            "                                    Borrower average_repayment_progress  \\\n",
            "46  MINISTERIO DE HACIENDA Y CREDITO PUBLICO                  63.857775   \n",
            "4                      BANCO DE LA REPUBLICA                   94.55348   \n",
            "34                                    ICETEX                  21.696772   \n",
            "21              EMPRESA DE ENERGIA ELECTRICA                  94.042872   \n",
            "40                INSTITUTO NACIONAL DE VIAS                  99.559128   \n",
            "25             EMPRESAS PUBLICAS DE MEDELLIN                  90.473642   \n",
            "41             INTERCONEXION ELECTRICA S. A.                  93.080192   \n",
            "20  EMPRESA DE ACUEDUCTO Y ALCANTA DE BOGOTA                  93.283326   \n",
            "11  Corporaci�n Aut�noma Regional deCundinam                  94.213366   \n",
            "33   FONDO PARA LA RECONST. DEL EJE CAFETERO                      100.0   \n",
            "\n",
            "    total_repaid  total_principal  \n",
            "46  8.345150e+09     2.623606e+10  \n",
            "4   9.602685e+08     1.019000e+09  \n",
            "34  2.127455e+08     8.200000e+08  \n",
            "21  7.260026e+08     7.866000e+08  \n",
            "40  5.959136e+08     5.986000e+08  \n",
            "25  5.142073e+08     5.535000e+08  \n",
            "41  4.479258e+08     5.176000e+08  \n",
            "20  3.149910e+08     3.480000e+08  \n",
            "11  2.355334e+08     2.500000e+08  \n",
            "33  2.250000e+08     2.250000e+08  \n"
          ]
        }
      ]
    },
    {
      "cell_type": "code",
      "source": [
        "import plotly.express as px\n",
        "\n",
        "# Replace infinite or missing repayment progress with NaN\n",
        "repayment_by_borrower['average_repayment_progress'].replace([float('inf'), -float('inf')], None, inplace=True)\n",
        "\n",
        "# Round the repayment progress percentage to 2 decimal places\n",
        "repayment_by_borrower['average_repayment_progress'] = repayment_by_borrower['average_repayment_progress'].round(2)\n",
        "\n",
        "# **Filter the top 10 borrowers by total principal**\n",
        "top_10_borrowers = repayment_by_borrower.nlargest(10, 'total_principal')\n",
        "\n",
        "# Create an interactive scatter plot for the top 10 borrowers\n",
        "fig = px.scatter(\n",
        "    top_10_borrowers,  # Use the filtered DataFrame here\n",
        "    x='total_principal',\n",
        "    y='average_repayment_progress',\n",
        "    size='total_repaid',  # Size of markers based on total repaid\n",
        "    color='Borrower',  # Different color for each borrower\n",
        "    hover_name='Borrower',  # Display borrower name on hover\n",
        "    hover_data={\n",
        "        'total_repaid': ':,.2f',  # Format total repaid with commas\n",
        "        'average_repayment_progress': ':.2f',  # Format percentage with 2 decimals\n",
        "        'total_principal': ':,.2f'  # Format total principal with commas\n",
        "    },\n",
        "    labels={\n",
        "        'total_principal': 'Total Principal (US$)',\n",
        "        'average_repayment_progress': 'Repayment Progress (%)'\n",
        "    },\n",
        "    title='Interactive Scatter Plot: Repayment Progress vs Total Principal (Top 10 Borrowers)'\n",
        ")\n",
        "\n",
        "# Update layout for better readability\n",
        "fig.update_layout(\n",
        "    xaxis=dict(title='Total Principal (US$)', tickformat=\",\"),\n",
        "    yaxis=dict(title='Repayment Progress (%)'),\n",
        "    title=dict(x=0.5),  # Center the title\n",
        "    template='plotly_white'  # Use a clean style\n",
        ")\n",
        "\n",
        "# Show the interactive plot\n",
        "fig.show()"
      ],
      "metadata": {
        "colab": {
          "base_uri": "https://localhost:8080/",
          "height": 681
        },
        "id": "tEsFUa6SjnYW",
        "outputId": "de470307-ca4b-476e-a557-e7574e7aef6d"
      },
      "execution_count": null,
      "outputs": [
        {
          "output_type": "stream",
          "name": "stderr",
          "text": [
            "<ipython-input-21-6523896de68f>:4: FutureWarning: A value is trying to be set on a copy of a DataFrame or Series through chained assignment using an inplace method.\n",
            "The behavior will change in pandas 3.0. This inplace method will never work because the intermediate object on which we are setting values always behaves as a copy.\n",
            "\n",
            "For example, when doing 'df[col].method(value, inplace=True)', try using 'df.method({col: value}, inplace=True)' or df[col] = df[col].method(value) instead, to perform the operation inplace on the original object.\n",
            "\n",
            "\n",
            "  repayment_by_borrower['average_repayment_progress'].replace([float('inf'), -float('inf')], None, inplace=True)\n"
          ]
        },
        {
          "output_type": "display_data",
          "data": {
            "text/html": [
              "<html>\n",
              "<head><meta charset=\"utf-8\" /></head>\n",
              "<body>\n",
              "    <div>            <script src=\"https://cdnjs.cloudflare.com/ajax/libs/mathjax/2.7.5/MathJax.js?config=TeX-AMS-MML_SVG\"></script><script type=\"text/javascript\">if (window.MathJax && window.MathJax.Hub && window.MathJax.Hub.Config) {window.MathJax.Hub.Config({SVG: {font: \"STIX-Web\"}});}</script>                <script type=\"text/javascript\">window.PlotlyConfig = {MathJaxConfig: 'local'};</script>\n",
              "        <script charset=\"utf-8\" src=\"https://cdn.plot.ly/plotly-2.35.2.min.js\"></script>                <div id=\"165ceb3f-7e75-4980-83bb-1b04852b42ce\" class=\"plotly-graph-div\" style=\"height:525px; width:100%;\"></div>            <script type=\"text/javascript\">                                    window.PLOTLYENV=window.PLOTLYENV || {};                                    if (document.getElementById(\"165ceb3f-7e75-4980-83bb-1b04852b42ce\")) {                    Plotly.newPlot(                        \"165ceb3f-7e75-4980-83bb-1b04852b42ce\",                        [{\"customdata\":[[8345149685.39]],\"hovertemplate\":\"\\u003cb\\u003e%{hovertext}\\u003c\\u002fb\\u003e\\u003cbr\\u003e\\u003cbr\\u003eBorrower=MINISTERIO DE HACIENDA Y CREDITO PUBLICO\\u003cbr\\u003eTotal Principal (US$)=%{x:,.2f}\\u003cbr\\u003eRepayment Progress (%)=%{y:.2f}\\u003cbr\\u003etotal_repaid=%{customdata[0]:,.2f}\\u003cextra\\u003e\\u003c\\u002fextra\\u003e\",\"hovertext\":[\"MINISTERIO DE HACIENDA Y CREDITO PUBLICO\"],\"legendgroup\":\"MINISTERIO DE HACIENDA Y CREDITO PUBLICO\",\"marker\":{\"color\":\"#636efa\",\"size\":[8345149685.39],\"sizemode\":\"area\",\"sizeref\":20862874.213475,\"symbol\":\"circle\"},\"mode\":\"markers\",\"name\":\"MINISTERIO DE HACIENDA Y CREDITO PUBLICO\",\"orientation\":\"h\",\"showlegend\":true,\"x\":[26236062000.0],\"xaxis\":\"x\",\"y\":[63.85777543479317],\"yaxis\":\"y\",\"type\":\"scatter\"},{\"customdata\":[[960268548.49]],\"hovertemplate\":\"\\u003cb\\u003e%{hovertext}\\u003c\\u002fb\\u003e\\u003cbr\\u003e\\u003cbr\\u003eBorrower=BANCO DE LA REPUBLICA\\u003cbr\\u003eTotal Principal (US$)=%{x:,.2f}\\u003cbr\\u003eRepayment Progress (%)=%{y:.2f}\\u003cbr\\u003etotal_repaid=%{customdata[0]:,.2f}\\u003cextra\\u003e\\u003c\\u002fextra\\u003e\",\"hovertext\":[\"BANCO DE LA REPUBLICA\"],\"legendgroup\":\"BANCO DE LA REPUBLICA\",\"marker\":{\"color\":\"#EF553B\",\"size\":[960268548.49],\"sizemode\":\"area\",\"sizeref\":20862874.213475,\"symbol\":\"circle\"},\"mode\":\"markers\",\"name\":\"BANCO DE LA REPUBLICA\",\"orientation\":\"h\",\"showlegend\":true,\"x\":[1019000000.0],\"xaxis\":\"x\",\"y\":[94.55347958681662],\"yaxis\":\"y\",\"type\":\"scatter\"},{\"customdata\":[[212745533.95]],\"hovertemplate\":\"\\u003cb\\u003e%{hovertext}\\u003c\\u002fb\\u003e\\u003cbr\\u003e\\u003cbr\\u003eBorrower=ICETEX\\u003cbr\\u003eTotal Principal (US$)=%{x:,.2f}\\u003cbr\\u003eRepayment Progress (%)=%{y:.2f}\\u003cbr\\u003etotal_repaid=%{customdata[0]:,.2f}\\u003cextra\\u003e\\u003c\\u002fextra\\u003e\",\"hovertext\":[\"ICETEX\"],\"legendgroup\":\"ICETEX\",\"marker\":{\"color\":\"#00cc96\",\"size\":[212745533.95],\"sizemode\":\"area\",\"sizeref\":20862874.213475,\"symbol\":\"circle\"},\"mode\":\"markers\",\"name\":\"ICETEX\",\"orientation\":\"h\",\"showlegend\":true,\"x\":[820000000.0],\"xaxis\":\"x\",\"y\":[21.69677216145833],\"yaxis\":\"y\",\"type\":\"scatter\"},{\"customdata\":[[726002596.2]],\"hovertemplate\":\"\\u003cb\\u003e%{hovertext}\\u003c\\u002fb\\u003e\\u003cbr\\u003e\\u003cbr\\u003eBorrower=EMPRESA DE ENERGIA ELECTRICA\\u003cbr\\u003eTotal Principal (US$)=%{x:,.2f}\\u003cbr\\u003eRepayment Progress (%)=%{y:.2f}\\u003cbr\\u003etotal_repaid=%{customdata[0]:,.2f}\\u003cextra\\u003e\\u003c\\u002fextra\\u003e\",\"hovertext\":[\"EMPRESA DE ENERGIA ELECTRICA\"],\"legendgroup\":\"EMPRESA DE ENERGIA ELECTRICA\",\"marker\":{\"color\":\"#ab63fa\",\"size\":[726002596.2],\"sizemode\":\"area\",\"sizeref\":20862874.213475,\"symbol\":\"circle\"},\"mode\":\"markers\",\"name\":\"EMPRESA DE ENERGIA ELECTRICA\",\"orientation\":\"h\",\"showlegend\":true,\"x\":[786600000.0],\"xaxis\":\"x\",\"y\":[94.04287176227113],\"yaxis\":\"y\",\"type\":\"scatter\"},{\"customdata\":[[595913618.76]],\"hovertemplate\":\"\\u003cb\\u003e%{hovertext}\\u003c\\u002fb\\u003e\\u003cbr\\u003e\\u003cbr\\u003eBorrower=INSTITUTO NACIONAL DE VIAS\\u003cbr\\u003eTotal Principal (US$)=%{x:,.2f}\\u003cbr\\u003eRepayment Progress (%)=%{y:.2f}\\u003cbr\\u003etotal_repaid=%{customdata[0]:,.2f}\\u003cextra\\u003e\\u003c\\u002fextra\\u003e\",\"hovertext\":[\"INSTITUTO NACIONAL DE VIAS\"],\"legendgroup\":\"INSTITUTO NACIONAL DE VIAS\",\"marker\":{\"color\":\"#FFA15A\",\"size\":[595913618.76],\"sizemode\":\"area\",\"sizeref\":20862874.213475,\"symbol\":\"circle\"},\"mode\":\"markers\",\"name\":\"INSTITUTO NACIONAL DE VIAS\",\"orientation\":\"h\",\"showlegend\":true,\"x\":[598600000.0],\"xaxis\":\"x\",\"y\":[99.55912822754604],\"yaxis\":\"y\",\"type\":\"scatter\"},{\"customdata\":[[514207315.53]],\"hovertemplate\":\"\\u003cb\\u003e%{hovertext}\\u003c\\u002fb\\u003e\\u003cbr\\u003e\\u003cbr\\u003eBorrower=EMPRESAS PUBLICAS DE MEDELLIN\\u003cbr\\u003eTotal Principal (US$)=%{x:,.2f}\\u003cbr\\u003eRepayment Progress (%)=%{y:.2f}\\u003cbr\\u003etotal_repaid=%{customdata[0]:,.2f}\\u003cextra\\u003e\\u003c\\u002fextra\\u003e\",\"hovertext\":[\"EMPRESAS PUBLICAS DE MEDELLIN\"],\"legendgroup\":\"EMPRESAS PUBLICAS DE MEDELLIN\",\"marker\":{\"color\":\"#19d3f3\",\"size\":[514207315.53],\"sizemode\":\"area\",\"sizeref\":20862874.213475,\"symbol\":\"circle\"},\"mode\":\"markers\",\"name\":\"EMPRESAS PUBLICAS DE MEDELLIN\",\"orientation\":\"h\",\"showlegend\":true,\"x\":[553500000.0],\"xaxis\":\"x\",\"y\":[90.47364233630688],\"yaxis\":\"y\",\"type\":\"scatter\"},{\"customdata\":[[447925821.96]],\"hovertemplate\":\"\\u003cb\\u003e%{hovertext}\\u003c\\u002fb\\u003e\\u003cbr\\u003e\\u003cbr\\u003eBorrower=INTERCONEXION ELECTRICA S. A.\\u003cbr\\u003eTotal Principal (US$)=%{x:,.2f}\\u003cbr\\u003eRepayment Progress (%)=%{y:.2f}\\u003cbr\\u003etotal_repaid=%{customdata[0]:,.2f}\\u003cextra\\u003e\\u003c\\u002fextra\\u003e\",\"hovertext\":[\"INTERCONEXION ELECTRICA S. A.\"],\"legendgroup\":\"INTERCONEXION ELECTRICA S. A.\",\"marker\":{\"color\":\"#FF6692\",\"size\":[447925821.96],\"sizemode\":\"area\",\"sizeref\":20862874.213475,\"symbol\":\"circle\"},\"mode\":\"markers\",\"name\":\"INTERCONEXION ELECTRICA S. A.\",\"orientation\":\"h\",\"showlegend\":true,\"x\":[517600000.0],\"xaxis\":\"x\",\"y\":[93.08019182293377],\"yaxis\":\"y\",\"type\":\"scatter\"},{\"customdata\":[[314990961.54]],\"hovertemplate\":\"\\u003cb\\u003e%{hovertext}\\u003c\\u002fb\\u003e\\u003cbr\\u003e\\u003cbr\\u003eBorrower=EMPRESA DE ACUEDUCTO Y ALCANTA DE BOGOTA\\u003cbr\\u003eTotal Principal (US$)=%{x:,.2f}\\u003cbr\\u003eRepayment Progress (%)=%{y:.2f}\\u003cbr\\u003etotal_repaid=%{customdata[0]:,.2f}\\u003cextra\\u003e\\u003c\\u002fextra\\u003e\",\"hovertext\":[\"EMPRESA DE ACUEDUCTO Y ALCANTA DE BOGOTA\"],\"legendgroup\":\"EMPRESA DE ACUEDUCTO Y ALCANTA DE BOGOTA\",\"marker\":{\"color\":\"#B6E880\",\"size\":[314990961.54],\"sizemode\":\"area\",\"sizeref\":20862874.213475,\"symbol\":\"circle\"},\"mode\":\"markers\",\"name\":\"EMPRESA DE ACUEDUCTO Y ALCANTA DE BOGOTA\",\"orientation\":\"h\",\"showlegend\":true,\"x\":[348000000.0],\"xaxis\":\"x\",\"y\":[93.28332587342932],\"yaxis\":\"y\",\"type\":\"scatter\"},{\"customdata\":[[235533415.29]],\"hovertemplate\":\"\\u003cb\\u003e%{hovertext}\\u003c\\u002fb\\u003e\\u003cbr\\u003e\\u003cbr\\u003eBorrower=Corporaci�n Aut�noma Regional deCundinam\\u003cbr\\u003eTotal Principal (US$)=%{x:,.2f}\\u003cbr\\u003eRepayment Progress (%)=%{y:.2f}\\u003cbr\\u003etotal_repaid=%{customdata[0]:,.2f}\\u003cextra\\u003e\\u003c\\u002fextra\\u003e\",\"hovertext\":[\"Corporaci�n Aut�noma Regional deCundinam\"],\"legendgroup\":\"Corporaci�n Aut�noma Regional deCundinam\",\"marker\":{\"color\":\"#FF97FF\",\"size\":[235533415.29],\"sizemode\":\"area\",\"sizeref\":20862874.213475,\"symbol\":\"circle\"},\"mode\":\"markers\",\"name\":\"Corporaci�n Aut�noma Regional deCundinam\",\"orientation\":\"h\",\"showlegend\":true,\"x\":[250000000.0],\"xaxis\":\"x\",\"y\":[94.213366116],\"yaxis\":\"y\",\"type\":\"scatter\"},{\"customdata\":[[225000000.0]],\"hovertemplate\":\"\\u003cb\\u003e%{hovertext}\\u003c\\u002fb\\u003e\\u003cbr\\u003e\\u003cbr\\u003eBorrower=FONDO PARA LA RECONST. DEL EJE CAFETERO\\u003cbr\\u003eTotal Principal (US$)=%{x:,.2f}\\u003cbr\\u003eRepayment Progress (%)=%{y:.2f}\\u003cbr\\u003etotal_repaid=%{customdata[0]:,.2f}\\u003cextra\\u003e\\u003c\\u002fextra\\u003e\",\"hovertext\":[\"FONDO PARA LA RECONST. DEL EJE CAFETERO\"],\"legendgroup\":\"FONDO PARA LA RECONST. DEL EJE CAFETERO\",\"marker\":{\"color\":\"#FECB52\",\"size\":[225000000.0],\"sizemode\":\"area\",\"sizeref\":20862874.213475,\"symbol\":\"circle\"},\"mode\":\"markers\",\"name\":\"FONDO PARA LA RECONST. DEL EJE CAFETERO\",\"orientation\":\"h\",\"showlegend\":true,\"x\":[225000000.0],\"xaxis\":\"x\",\"y\":[100.0],\"yaxis\":\"y\",\"type\":\"scatter\"}],                        {\"template\":{\"data\":{\"barpolar\":[{\"marker\":{\"line\":{\"color\":\"white\",\"width\":0.5},\"pattern\":{\"fillmode\":\"overlay\",\"size\":10,\"solidity\":0.2}},\"type\":\"barpolar\"}],\"bar\":[{\"error_x\":{\"color\":\"#2a3f5f\"},\"error_y\":{\"color\":\"#2a3f5f\"},\"marker\":{\"line\":{\"color\":\"white\",\"width\":0.5},\"pattern\":{\"fillmode\":\"overlay\",\"size\":10,\"solidity\":0.2}},\"type\":\"bar\"}],\"carpet\":[{\"aaxis\":{\"endlinecolor\":\"#2a3f5f\",\"gridcolor\":\"#C8D4E3\",\"linecolor\":\"#C8D4E3\",\"minorgridcolor\":\"#C8D4E3\",\"startlinecolor\":\"#2a3f5f\"},\"baxis\":{\"endlinecolor\":\"#2a3f5f\",\"gridcolor\":\"#C8D4E3\",\"linecolor\":\"#C8D4E3\",\"minorgridcolor\":\"#C8D4E3\",\"startlinecolor\":\"#2a3f5f\"},\"type\":\"carpet\"}],\"choropleth\":[{\"colorbar\":{\"outlinewidth\":0,\"ticks\":\"\"},\"type\":\"choropleth\"}],\"contourcarpet\":[{\"colorbar\":{\"outlinewidth\":0,\"ticks\":\"\"},\"type\":\"contourcarpet\"}],\"contour\":[{\"colorbar\":{\"outlinewidth\":0,\"ticks\":\"\"},\"colorscale\":[[0.0,\"#0d0887\"],[0.1111111111111111,\"#46039f\"],[0.2222222222222222,\"#7201a8\"],[0.3333333333333333,\"#9c179e\"],[0.4444444444444444,\"#bd3786\"],[0.5555555555555556,\"#d8576b\"],[0.6666666666666666,\"#ed7953\"],[0.7777777777777778,\"#fb9f3a\"],[0.8888888888888888,\"#fdca26\"],[1.0,\"#f0f921\"]],\"type\":\"contour\"}],\"heatmapgl\":[{\"colorbar\":{\"outlinewidth\":0,\"ticks\":\"\"},\"colorscale\":[[0.0,\"#0d0887\"],[0.1111111111111111,\"#46039f\"],[0.2222222222222222,\"#7201a8\"],[0.3333333333333333,\"#9c179e\"],[0.4444444444444444,\"#bd3786\"],[0.5555555555555556,\"#d8576b\"],[0.6666666666666666,\"#ed7953\"],[0.7777777777777778,\"#fb9f3a\"],[0.8888888888888888,\"#fdca26\"],[1.0,\"#f0f921\"]],\"type\":\"heatmapgl\"}],\"heatmap\":[{\"colorbar\":{\"outlinewidth\":0,\"ticks\":\"\"},\"colorscale\":[[0.0,\"#0d0887\"],[0.1111111111111111,\"#46039f\"],[0.2222222222222222,\"#7201a8\"],[0.3333333333333333,\"#9c179e\"],[0.4444444444444444,\"#bd3786\"],[0.5555555555555556,\"#d8576b\"],[0.6666666666666666,\"#ed7953\"],[0.7777777777777778,\"#fb9f3a\"],[0.8888888888888888,\"#fdca26\"],[1.0,\"#f0f921\"]],\"type\":\"heatmap\"}],\"histogram2dcontour\":[{\"colorbar\":{\"outlinewidth\":0,\"ticks\":\"\"},\"colorscale\":[[0.0,\"#0d0887\"],[0.1111111111111111,\"#46039f\"],[0.2222222222222222,\"#7201a8\"],[0.3333333333333333,\"#9c179e\"],[0.4444444444444444,\"#bd3786\"],[0.5555555555555556,\"#d8576b\"],[0.6666666666666666,\"#ed7953\"],[0.7777777777777778,\"#fb9f3a\"],[0.8888888888888888,\"#fdca26\"],[1.0,\"#f0f921\"]],\"type\":\"histogram2dcontour\"}],\"histogram2d\":[{\"colorbar\":{\"outlinewidth\":0,\"ticks\":\"\"},\"colorscale\":[[0.0,\"#0d0887\"],[0.1111111111111111,\"#46039f\"],[0.2222222222222222,\"#7201a8\"],[0.3333333333333333,\"#9c179e\"],[0.4444444444444444,\"#bd3786\"],[0.5555555555555556,\"#d8576b\"],[0.6666666666666666,\"#ed7953\"],[0.7777777777777778,\"#fb9f3a\"],[0.8888888888888888,\"#fdca26\"],[1.0,\"#f0f921\"]],\"type\":\"histogram2d\"}],\"histogram\":[{\"marker\":{\"pattern\":{\"fillmode\":\"overlay\",\"size\":10,\"solidity\":0.2}},\"type\":\"histogram\"}],\"mesh3d\":[{\"colorbar\":{\"outlinewidth\":0,\"ticks\":\"\"},\"type\":\"mesh3d\"}],\"parcoords\":[{\"line\":{\"colorbar\":{\"outlinewidth\":0,\"ticks\":\"\"}},\"type\":\"parcoords\"}],\"pie\":[{\"automargin\":true,\"type\":\"pie\"}],\"scatter3d\":[{\"line\":{\"colorbar\":{\"outlinewidth\":0,\"ticks\":\"\"}},\"marker\":{\"colorbar\":{\"outlinewidth\":0,\"ticks\":\"\"}},\"type\":\"scatter3d\"}],\"scattercarpet\":[{\"marker\":{\"colorbar\":{\"outlinewidth\":0,\"ticks\":\"\"}},\"type\":\"scattercarpet\"}],\"scattergeo\":[{\"marker\":{\"colorbar\":{\"outlinewidth\":0,\"ticks\":\"\"}},\"type\":\"scattergeo\"}],\"scattergl\":[{\"marker\":{\"colorbar\":{\"outlinewidth\":0,\"ticks\":\"\"}},\"type\":\"scattergl\"}],\"scattermapbox\":[{\"marker\":{\"colorbar\":{\"outlinewidth\":0,\"ticks\":\"\"}},\"type\":\"scattermapbox\"}],\"scatterpolargl\":[{\"marker\":{\"colorbar\":{\"outlinewidth\":0,\"ticks\":\"\"}},\"type\":\"scatterpolargl\"}],\"scatterpolar\":[{\"marker\":{\"colorbar\":{\"outlinewidth\":0,\"ticks\":\"\"}},\"type\":\"scatterpolar\"}],\"scatter\":[{\"fillpattern\":{\"fillmode\":\"overlay\",\"size\":10,\"solidity\":0.2},\"type\":\"scatter\"}],\"scatterternary\":[{\"marker\":{\"colorbar\":{\"outlinewidth\":0,\"ticks\":\"\"}},\"type\":\"scatterternary\"}],\"surface\":[{\"colorbar\":{\"outlinewidth\":0,\"ticks\":\"\"},\"colorscale\":[[0.0,\"#0d0887\"],[0.1111111111111111,\"#46039f\"],[0.2222222222222222,\"#7201a8\"],[0.3333333333333333,\"#9c179e\"],[0.4444444444444444,\"#bd3786\"],[0.5555555555555556,\"#d8576b\"],[0.6666666666666666,\"#ed7953\"],[0.7777777777777778,\"#fb9f3a\"],[0.8888888888888888,\"#fdca26\"],[1.0,\"#f0f921\"]],\"type\":\"surface\"}],\"table\":[{\"cells\":{\"fill\":{\"color\":\"#EBF0F8\"},\"line\":{\"color\":\"white\"}},\"header\":{\"fill\":{\"color\":\"#C8D4E3\"},\"line\":{\"color\":\"white\"}},\"type\":\"table\"}]},\"layout\":{\"annotationdefaults\":{\"arrowcolor\":\"#2a3f5f\",\"arrowhead\":0,\"arrowwidth\":1},\"autotypenumbers\":\"strict\",\"coloraxis\":{\"colorbar\":{\"outlinewidth\":0,\"ticks\":\"\"}},\"colorscale\":{\"diverging\":[[0,\"#8e0152\"],[0.1,\"#c51b7d\"],[0.2,\"#de77ae\"],[0.3,\"#f1b6da\"],[0.4,\"#fde0ef\"],[0.5,\"#f7f7f7\"],[0.6,\"#e6f5d0\"],[0.7,\"#b8e186\"],[0.8,\"#7fbc41\"],[0.9,\"#4d9221\"],[1,\"#276419\"]],\"sequential\":[[0.0,\"#0d0887\"],[0.1111111111111111,\"#46039f\"],[0.2222222222222222,\"#7201a8\"],[0.3333333333333333,\"#9c179e\"],[0.4444444444444444,\"#bd3786\"],[0.5555555555555556,\"#d8576b\"],[0.6666666666666666,\"#ed7953\"],[0.7777777777777778,\"#fb9f3a\"],[0.8888888888888888,\"#fdca26\"],[1.0,\"#f0f921\"]],\"sequentialminus\":[[0.0,\"#0d0887\"],[0.1111111111111111,\"#46039f\"],[0.2222222222222222,\"#7201a8\"],[0.3333333333333333,\"#9c179e\"],[0.4444444444444444,\"#bd3786\"],[0.5555555555555556,\"#d8576b\"],[0.6666666666666666,\"#ed7953\"],[0.7777777777777778,\"#fb9f3a\"],[0.8888888888888888,\"#fdca26\"],[1.0,\"#f0f921\"]]},\"colorway\":[\"#636efa\",\"#EF553B\",\"#00cc96\",\"#ab63fa\",\"#FFA15A\",\"#19d3f3\",\"#FF6692\",\"#B6E880\",\"#FF97FF\",\"#FECB52\"],\"font\":{\"color\":\"#2a3f5f\"},\"geo\":{\"bgcolor\":\"white\",\"lakecolor\":\"white\",\"landcolor\":\"white\",\"showlakes\":true,\"showland\":true,\"subunitcolor\":\"#C8D4E3\"},\"hoverlabel\":{\"align\":\"left\"},\"hovermode\":\"closest\",\"mapbox\":{\"style\":\"light\"},\"paper_bgcolor\":\"white\",\"plot_bgcolor\":\"white\",\"polar\":{\"angularaxis\":{\"gridcolor\":\"#EBF0F8\",\"linecolor\":\"#EBF0F8\",\"ticks\":\"\"},\"bgcolor\":\"white\",\"radialaxis\":{\"gridcolor\":\"#EBF0F8\",\"linecolor\":\"#EBF0F8\",\"ticks\":\"\"}},\"scene\":{\"xaxis\":{\"backgroundcolor\":\"white\",\"gridcolor\":\"#DFE8F3\",\"gridwidth\":2,\"linecolor\":\"#EBF0F8\",\"showbackground\":true,\"ticks\":\"\",\"zerolinecolor\":\"#EBF0F8\"},\"yaxis\":{\"backgroundcolor\":\"white\",\"gridcolor\":\"#DFE8F3\",\"gridwidth\":2,\"linecolor\":\"#EBF0F8\",\"showbackground\":true,\"ticks\":\"\",\"zerolinecolor\":\"#EBF0F8\"},\"zaxis\":{\"backgroundcolor\":\"white\",\"gridcolor\":\"#DFE8F3\",\"gridwidth\":2,\"linecolor\":\"#EBF0F8\",\"showbackground\":true,\"ticks\":\"\",\"zerolinecolor\":\"#EBF0F8\"}},\"shapedefaults\":{\"line\":{\"color\":\"#2a3f5f\"}},\"ternary\":{\"aaxis\":{\"gridcolor\":\"#DFE8F3\",\"linecolor\":\"#A2B1C6\",\"ticks\":\"\"},\"baxis\":{\"gridcolor\":\"#DFE8F3\",\"linecolor\":\"#A2B1C6\",\"ticks\":\"\"},\"bgcolor\":\"white\",\"caxis\":{\"gridcolor\":\"#DFE8F3\",\"linecolor\":\"#A2B1C6\",\"ticks\":\"\"}},\"title\":{\"x\":0.05},\"xaxis\":{\"automargin\":true,\"gridcolor\":\"#EBF0F8\",\"linecolor\":\"#EBF0F8\",\"ticks\":\"\",\"title\":{\"standoff\":15},\"zerolinecolor\":\"#EBF0F8\",\"zerolinewidth\":2},\"yaxis\":{\"automargin\":true,\"gridcolor\":\"#EBF0F8\",\"linecolor\":\"#EBF0F8\",\"ticks\":\"\",\"title\":{\"standoff\":15},\"zerolinecolor\":\"#EBF0F8\",\"zerolinewidth\":2}}},\"xaxis\":{\"anchor\":\"y\",\"domain\":[0.0,1.0],\"title\":{\"text\":\"Total Principal (US$)\"},\"tickformat\":\",\"},\"yaxis\":{\"anchor\":\"x\",\"domain\":[0.0,1.0],\"title\":{\"text\":\"Repayment Progress (%)\"}},\"legend\":{\"title\":{\"text\":\"Borrower\"},\"tracegroupgap\":0,\"itemsizing\":\"constant\"},\"title\":{\"text\":\"Interactive Scatter Plot: Repayment Progress vs Total Principal (Top 10 Borrowers)\",\"x\":0.5}},                        {\"responsive\": true}                    ).then(function(){\n",
              "                            \n",
              "var gd = document.getElementById('165ceb3f-7e75-4980-83bb-1b04852b42ce');\n",
              "var x = new MutationObserver(function (mutations, observer) {{\n",
              "        var display = window.getComputedStyle(gd).display;\n",
              "        if (!display || display === 'none') {{\n",
              "            console.log([gd, 'removed!']);\n",
              "            Plotly.purge(gd);\n",
              "            observer.disconnect();\n",
              "        }}\n",
              "}});\n",
              "\n",
              "// Listen for the removal of the full notebook cells\n",
              "var notebookContainer = gd.closest('#notebook-container');\n",
              "if (notebookContainer) {{\n",
              "    x.observe(notebookContainer, {childList: true});\n",
              "}}\n",
              "\n",
              "// Listen for the clearing of the current output cell\n",
              "var outputEl = gd.closest('.output');\n",
              "if (outputEl) {{\n",
              "    x.observe(outputEl, {childList: true});\n",
              "}}\n",
              "\n",
              "                        })                };                            </script>        </div>\n",
              "</body>\n",
              "</html>"
            ]
          },
          "metadata": {}
        }
      ]
    },
    {
      "cell_type": "markdown",
      "source": [
        "The visual addresses the research question by effectively showing the relationship between Total Principal (US$) borrowed and Repayment Progress (%) for different borrowers. By plotting borrowers as data points, the graph highlights variations in loan amounts (represented by the x-axis) and repayment performance (y-axis). The size of each point further conveys the relative weight of the loans in the total dataset, helping to identify which borrowers contribute significantly to the portfolio.\n",
        "\n",
        "For example, Ministerio de Hacienda y Crédito Público, represented by the large pink point, stands out as a borrower with the largest total principal amount and almost 100% repayment progress. This insight emphasizes its significant role in the overall portfolio and its strong repayment performance. Additionally, the scatterplot identifies outliers, such as borrowers with lower repayment progress or smaller loan amounts, offering a comprehensive overview for evaluating borrower performance and portfolio health."
      ],
      "metadata": {
        "id": "U7XJalPpkLLD"
      }
    },
    {
      "cell_type": "code",
      "source": [],
      "metadata": {
        "id": "1e21bW-WkNOr"
      },
      "execution_count": null,
      "outputs": []
    }
  ]
}